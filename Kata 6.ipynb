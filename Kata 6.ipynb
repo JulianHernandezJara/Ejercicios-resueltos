{
 "cells": [
  {
   "cell_type": "markdown",
   "metadata": {},
   "source": [
    "Kata 6"
   ]
  },
  {
   "cell_type": "markdown",
   "metadata": {},
   "source": [
    "Ejercicio1: Crear y usar listas de Python"
   ]
  },
  {
   "cell_type": "code",
   "execution_count": 9,
   "metadata": {},
   "outputs": [
    {
     "name": "stdout",
     "output_type": "stream",
     "text": [
      "Hay 8 en el sistema solar (en la lista).\n",
      "['Mercurio', 'Venús', 'Tierra', 'Marte', 'Jupiter', 'Saturno', 'Urano', 'Neptuno']\n",
      "Plutón ahora es un planeta.\n",
      "Hay 9 en el sistema solar ahora(en la lista).\n",
      "El último planeta del sistema solar es: Plutón\n"
     ]
    }
   ],
   "source": [
    "Planets=['Mercurio','Venús','Tierra','Marte','Jupiter','Saturno','Urano','Neptuno']\n",
    "print(f'Hay {len(Planets)} en el sistema solar (en la lista).')\n",
    "print (Planets)\n",
    "\n",
    "Planets.append('Plutón')\n",
    "print('Plutón ahora es un planeta.')\n",
    "print(f'Hay {len(Planets)} en el sistema solar ahora(en la lista).')\n",
    "print(f'El último planeta del sistema solar es: {Planets[-1]}')\n"
   ]
  },
  {
   "cell_type": "markdown",
   "metadata": {},
   "source": [
    "Ejercicio 2 Trabajando con datos de una lista"
   ]
  },
  {
   "cell_type": "code",
   "execution_count": 11,
   "metadata": {},
   "outputs": [
    {
     "name": "stdout",
     "output_type": "stream",
     "text": [
      "Estos son los planetas más cercanos a Tierra\n",
      "['Mercurio', 'Venus']\n",
      "Estos son los planetas más alejados a Tierra\n",
      "['Marte', 'Jupiter', 'Saturno', 'urano', 'Neptuno']\n"
     ]
    }
   ],
   "source": [
    "planets = ['Mercurio', 'Venus', 'Tierra', 'Marte', 'Jupiter', 'Saturno','urano', 'Neptuno']\n",
    "planet=input('Ingrese el nombre de un planeta, la primera letra debe ser mayúscula.')\n",
    "indice= planets.index(planet)\n",
    "\n",
    "print('Estos son los planetas más cercanos a ' + planet)\n",
    "print(planets[0:indice])\n",
    "\n",
    "print('Estos son los planetas más alejados a ' + planet)\n",
    "print(planets[indice+1:])\n",
    "\n",
    "\n"
   ]
  }
 ],
 "metadata": {
  "interpreter": {
   "hash": "214a74407ef9e6e4ed63c40308d0aaf98d8d8b8d13d9973b42a518f17733604d"
  },
  "kernelspec": {
   "display_name": "Python 3.10.2 64-bit",
   "language": "python",
   "name": "python3"
  },
  "language_info": {
   "codemirror_mode": {
    "name": "ipython",
    "version": 3
   },
   "file_extension": ".py",
   "mimetype": "text/x-python",
   "name": "python",
   "nbconvert_exporter": "python",
   "pygments_lexer": "ipython3",
   "version": "3.10.2"
  },
  "orig_nbformat": 4
 },
 "nbformat": 4,
 "nbformat_minor": 2
}
