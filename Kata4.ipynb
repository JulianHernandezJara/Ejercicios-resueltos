{
 "cells": [
  {
   "cell_type": "markdown",
   "metadata": {},
   "source": [
    "Kata 4"
   ]
  },
  {
   "cell_type": "markdown",
   "metadata": {},
   "source": [
    "Ejercicio 1: Transformar cadenas"
   ]
  },
  {
   "cell_type": "code",
   "execution_count": 44,
   "metadata": {},
   "outputs": [
    {
     "name": "stdout",
     "output_type": "stream",
     "text": [
      "Hechos con las palabras clave average, temperature y distance\n",
      "\n",
      "On average, the Moon moves 4cm away from the Earth every year\n",
      "The highest daylight temperature of the Moon is 127 Celsius.\n"
     ]
    }
   ],
   "source": [
    "text=\"\"\"Interesting facts about the Moon. The Moon is Earth's only satellite. There are several interesting facts about the Moon and how it affects life here on Earth. \n",
    "On average, the Moon moves 4cm away from the Earth every year. This yearly drift is not significant enough to cause immediate effects on Earth. The highest daylight temperature of the Moon is 127 C.\"\"\"\n",
    "\n",
    "Claves= ['average', 'temperature', 'distance']\n",
    "\n",
    "print ('Hechos con las palabras clave average, temperature y distance')\n",
    "\n",
    "for sentence in text.split('. '):\n",
    "    for Clave in Claves:\n",
    "        if Clave in sentence:\n",
    "            print (sentence.replace('C','Celsius'))    \n",
    "            break"
   ]
  },
  {
   "cell_type": "markdown",
   "metadata": {},
   "source": [
    "Ejercicio 2: Formateando Cadenas"
   ]
  },
  {
   "cell_type": "code",
   "execution_count": 43,
   "metadata": {},
   "outputs": [
    {
     "name": "stdout",
     "output_type": "stream",
     "text": [
      "Gravity facts about Moon\n",
      "Planet name: Earth.\n",
      "Gravity of Moon: 1.6199999999999999 m/s2.\n"
     ]
    }
   ],
   "source": [
    "name = \"Moon\"\n",
    "gravity = 0.00162 # in kms\n",
    "planet = \"Earth\"\n",
    "\n",
    "title= f'Gravity facts about {name}'\n",
    "Facts= f\"\"\"Planet name: {planet}.\n",
    "Gravity of {name}: {gravity * 1000} m/s2.\"\"\"\n",
    "\n",
    "Plate= f\"\"\"{title}\\n{Facts}\"\"\"\n",
    "print (Plate)"
   ]
  },
  {
   "cell_type": "code",
   "execution_count": 42,
   "metadata": {},
   "outputs": [
    {
     "name": "stdout",
     "output_type": "stream",
     "text": [
      "Gravity facts about Ganímedes\n",
      "Planet name: Marte.\n",
      "Gravity of Ganímedes: 1.4300000000000002 m/s2.\n"
     ]
    }
   ],
   "source": [
    "planet = 'Marte'\n",
    "gravity  = 0.00143\n",
    "name = 'Ganímedes'\n",
    "\n",
    "title= f'Gravity facts about {name}'\n",
    "Facts= f\"\"\"Planet name: {planet}.\n",
    "Gravity of {name}: {gravity * 1000} m/s2.\"\"\"\n",
    "\n",
    "Plate= f\"\"\"{title}\\n{Facts}\"\"\"\n",
    "print (Plate)"
   ]
  }
 ],
 "metadata": {
  "interpreter": {
   "hash": "214a74407ef9e6e4ed63c40308d0aaf98d8d8b8d13d9973b42a518f17733604d"
  },
  "kernelspec": {
   "display_name": "Python 3.10.2 64-bit",
   "language": "python",
   "name": "python3"
  },
  "language_info": {
   "codemirror_mode": {
    "name": "ipython",
    "version": 3
   },
   "file_extension": ".py",
   "mimetype": "text/x-python",
   "name": "python",
   "nbconvert_exporter": "python",
   "pygments_lexer": "ipython3",
   "version": "3.10.2"
  },
  "orig_nbformat": 4
 },
 "nbformat": 4,
 "nbformat_minor": 2
}
