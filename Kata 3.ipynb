{
 "cells": [
  {
   "cell_type": "markdown",
   "metadata": {},
   "source": [
    "# Kata #3"
   ]
  },
  {
   "cell_type": "markdown",
   "metadata": {},
   "source": [
    "Problema #1\n",
    "\n",
    "Para este ejercicio, escribirás una lógica condicional que imprima una advertencia si un asteroide se acerca a la Tierra demasiado rápido. La velocidad del asteroide varía dependiendo de lo cerca que esté del sol, y cualquier velocidad superior a 25 kilómetros por segundo (km/s) merece una advertencia.\n",
    "\n",
    "Un asteroide se acerca, y viaja a una velocidad de 49 km/s.\n",
    "\n",
    "-Añadir el código necesario para crear una variable que guarde la velocidad del asteroide.\n",
    "\n",
    "-Escribe una expresión de prueba para calcular si necesita una advertencia.\n",
    "\n",
    "-Agregue las instrucciones que se ejecutarán si la expresión de prueba es true o false."
   ]
  },
  {
   "cell_type": "code",
   "execution_count": 6,
   "metadata": {},
   "outputs": [
    {
     "name": "stdout",
     "output_type": "stream",
     "text": [
      "ADVERTENCIA: Se acerca un asteroide peligrosamente a 49 Km/s.\n"
     ]
    }
   ],
   "source": [
    "Velocidad= 49\n",
    "if Velocidad > 25:\n",
    "    print('ADVERTENCIA: Se acerca un asteroide peligrosamente a '+str(Velocidad)+' Km/s.')\n",
    "else:\n",
    "    print('Se feliz, no hay peligro.')"
   ]
  },
  {
   "cell_type": "markdown",
   "metadata": {},
   "source": [
    "Problema #2\n",
    "\n",
    "Si un asteroide entra en la atmósfera de la Tierra a una velocidad mayor o igual a 20 km/s, a veces produce un rayo de luz que se puede ver desde la Tierra. Escribe la lógica condicional que usa declaraciones if, else, y elif para alertar a las personas de todo el mundo que deben buscar un asteroide en el cielo. ¡Hay uno que se dirige a la tierra ahora a una velocidad de 19 km/s!\n",
    "\n",
    "-Agrega el código para crear una variable para un asteroide que viaja a 19 km/s.\n",
    "\n",
    "-Escribe varias expresiones de prueba para determinar si puedes ver el rayo de luz desde la tierra.\n",
    "\n",
    "-Agrega las instrucciones que se ejecutarán si las expresiones de prueba son True o False"
   ]
  },
  {
   "cell_type": "code",
   "execution_count": 5,
   "metadata": {},
   "outputs": [
    {
     "name": "stdout",
     "output_type": "stream",
     "text": [
      "Sigue con tu vida, no pasa nada.\n"
     ]
    }
   ],
   "source": [
    "Velocidad = 19\n",
    "\n",
    "if Velocidad == 20:\n",
    "    print('Hay un rayo de luz en el cielo, buscalo!')\n",
    "elif Velocidad > 20:\n",
    "    print('Hay un rayo de luz en el cielo, buscalo!')\n",
    "else:\n",
    "    print('Sigue con tu vida, no pasa nada.')"
   ]
  },
  {
   "cell_type": "markdown",
   "metadata": {},
   "source": [
    "Problema #3\n",
    "\n",
    "*Los asteroides de menos de 25 metros en su dimensión más grande probablemente se quemarán a medida que entren en la atmósfera de la Tierra.\n",
    "\n",
    "Si una pieza de un asteroide que es más grande que 25 metros pero más pequeña que 1000 metros golpeara la Tierra, causaría mucho daño.\n",
    "También discutimos en el ejercicio anterior que:\n",
    "\n",
    "La velocidad del asteroide varía en función de lo cerca que esté del sol, y cualquier velocidad superior a 25 kilómetros por segundo (km/s) merece una advertencia.\n",
    "Si un asteroide entra en la atmósfera de la Tierra a una velocidad mayor o igual a 20 km/s, a veces produce un rayo de luz que se puede ver desde la Tierra.\n",
    "Usando toda esta información, escribe un programa que emita la advertencia o información correcta a la gente de la Tierra, según la velocidad y el tamaño de un asteroide. Utiliza instrucciones if, else, y elif, así como los operadores and y or.\n",
    "\n",
    "-Agrega el código para crear nuevas variables para la velocidad y el tamaño del asteroide\n",
    "\n",
    "-Para probar el código, prueba con varias velocidades y tamaños\n",
    "\n",
    "-Escribe varias expresiones de prueba o combinaciones de expresiones de prueba para determinar qué mensaje se debe enviar a Tierra.\n"
   ]
  },
  {
   "cell_type": "code",
   "execution_count": 4,
   "metadata": {},
   "outputs": [
    {
     "name": "stdout",
     "output_type": "stream",
     "text": [
      "ADVERTENCIA: Se acerca un asteroide muy grande peligrosamente a 50 Km/s.\n"
     ]
    }
   ],
   "source": [
    "Diametro = 30\n",
    "Velocidad = 50\n",
    "\n",
    "if Diametro > 25 and Velocidad > 25:\n",
    "    print('ADVERTENCIA: Se acerca un asteroide muy grande peligrosamente a '+str(Velocidad)+' Km/s.')\n",
    "elif Velocidad >= 20:\n",
    "    print('Hay un rayo de luz en el cielo, buscalo!')\n",
    "elif Diametro < 25:\n",
    "    print('Sigue con tu vida, no pasa nada.')\n",
    "else:\n",
    "    print('Sigue con tu vida, no pasa nada.')"
   ]
  }
 ],
 "metadata": {
  "interpreter": {
   "hash": "214a74407ef9e6e4ed63c40308d0aaf98d8d8b8d13d9973b42a518f17733604d"
  },
  "kernelspec": {
   "display_name": "Python 3.10.2 64-bit",
   "language": "python",
   "name": "python3"
  },
  "language_info": {
   "codemirror_mode": {
    "name": "ipython",
    "version": 3
   },
   "file_extension": ".py",
   "mimetype": "text/x-python",
   "name": "python",
   "nbconvert_exporter": "python",
   "pygments_lexer": "ipython3",
   "version": "3.10.2"
  },
  "orig_nbformat": 4
 },
 "nbformat": 4,
 "nbformat_minor": 2
}
