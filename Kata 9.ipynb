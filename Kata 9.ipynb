{
 "cells": [
  {
   "cell_type": "markdown",
   "metadata": {},
   "source": [
    "Kata 9"
   ]
  },
  {
   "cell_type": "markdown",
   "metadata": {},
   "source": [
    "Ejercicio 1: Trabajar con argumentos en funciones"
   ]
  },
  {
   "cell_type": "code",
   "execution_count": 18,
   "metadata": {},
   "outputs": [
    {
     "name": "stdout",
     "output_type": "stream",
     "text": [
      "Reporte de combustible de la nave:\n",
      "El promedio de combustible en la nave es: 58.666666666666664%\n",
      "Primer tanque: 22%\n",
      "Segundo tanque: 55%\n",
      "Tercer tanque: 99%\n"
     ]
    }
   ],
   "source": [
    "# Función promedio \n",
    "def Promedio(*args):\n",
    "    return sum(args)/len(args)\n",
    "\n",
    "# Función para leer 3 tanques de combustible y muestre el promedio\n",
    "def CombustibleReporte(Combustible1,Combustible2,Combustible3):\n",
    "    print('Reporte de combustible de la nave:')\n",
    "    PromedioCombustible = Promedio(Combustible1,Combustible2,Combustible3)\n",
    "    print (f'El promedio de combustible en la nave es: {PromedioCombustible}%')\n",
    "    print(f'Primer tanque: {Combustible1}%')\n",
    "    print(f'Segundo tanque: {Combustible2}%')\n",
    "    print(f'Tercer tanque: {Combustible3}%')\n",
    "\n",
    "# Llamamos a la función que genera el reporte print(funcion(tanque1, tanque2, tanque3))\n",
    "CombustibleReporte(22,55,99)\n"
   ]
  },
  {
   "cell_type": "markdown",
   "metadata": {},
   "source": [
    "Ejercicio 2: Trabajo con argumentos de palabra clave"
   ]
  },
  {
   "cell_type": "code",
   "execution_count": 17,
   "metadata": {},
   "outputs": [
    {
     "name": "stdout",
     "output_type": "stream",
     "text": [
      "Reporte de la misión:\n",
      "Destino: Plutón\n",
      "Tiempo para llegar al destino: 5446 minutos\n",
      "Combustible total restante: 84000 gal\n",
      "El tanque Principal tiene 34000 galones restantes.\n",
      "El tanque Trasero tiene 50000 galones restantes.\n"
     ]
    }
   ],
   "source": [
    "# Función con un informe preciso de la misión. Considera hora de prelanzamiento, tiempo de vuelo, destino, tanque externo y tanque interno\n",
    "#def ReporteDeMision(Tiempo, Combustible, Destino):\n",
    "    #print('Reporte de la misión:')\n",
    "   # print(f'Destino: {Destino}')\n",
    "  #  print(f'Tiempo para llegar al destino: {Tiempo} minutos')\n",
    " #   print(f'Combustible restante: {Combustible} gal')\n",
    "\n",
    "#ReporteDeMision(43,67,'Plutón')\n",
    "\n",
    "# Escribe tu nueva función de reporte considerando lo anterior\n",
    "\n",
    "#def ReporteDeMision(Destino,*Minutos,**Combustible):\n",
    " #   print('Reporte de la misión:')\n",
    "   # print(f'Destino: {Destino}')\n",
    "  #  print(f'Tiempo para llegar al destino: {sum(Minutos)} minutos')\n",
    "   # print(f'Combustible restante: {sum(Combustible.values)} gal')\n",
    "\n",
    "#ReporteDeMision('Plutón',12,34,54, Principal=34, Trasero=50)\n",
    "\n",
    "# Escribe tu nueva función\n",
    "\n",
    "def ReporteDeMision(Destino,*Minutos,**Combustible):\n",
    "    print('Reporte de la misión:')\n",
    "    print(f'Destino: {Destino}')\n",
    "    print(f'Tiempo para llegar al destino: {sum(Minutos)} minutos')\n",
    "    print(f'Combustible total restante: {sum(Combustible.values())} gal')\n",
    "    for tank_name, gallon in Combustible.items():\n",
    "        print(f'El tanque {tank_name} tiene {gallon} galones restantes.')\n",
    "\n",
    "ReporteDeMision('Plutón',12,34,5400, Principal=34000, Trasero=50000)"
   ]
  }
 ],
 "metadata": {
  "interpreter": {
   "hash": "214a74407ef9e6e4ed63c40308d0aaf98d8d8b8d13d9973b42a518f17733604d"
  },
  "kernelspec": {
   "display_name": "Python 3.10.2 64-bit",
   "language": "python",
   "name": "python3"
  },
  "language_info": {
   "codemirror_mode": {
    "name": "ipython",
    "version": 3
   },
   "file_extension": ".py",
   "mimetype": "text/x-python",
   "name": "python",
   "nbconvert_exporter": "python",
   "pygments_lexer": "ipython3",
   "version": "3.10.2"
  },
  "orig_nbformat": 4
 },
 "nbformat": 4,
 "nbformat_minor": 2
}
