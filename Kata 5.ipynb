{
 "cells": [
  {
   "cell_type": "markdown",
   "metadata": {},
   "source": [
    "Kata 5"
   ]
  },
  {
   "cell_type": "markdown",
   "metadata": {},
   "source": [
    "Ejercicio 1 distancia entre 2 planetas"
   ]
  },
  {
   "cell_type": "code",
   "execution_count": 7,
   "metadata": {},
   "outputs": [
    {
     "name": "stdout",
     "output_type": "stream",
     "text": [
      "Distancia entre La Tierra y Jupiter en Km: 628949330 Km.\n",
      "Distancia entre La Tierra y Jupiter en Millas: 390577534 Millas.\n"
     ]
    }
   ],
   "source": [
    "#Distancia al sol\n",
    "\n",
    "Nombre_P1= 'La Tierra'\n",
    "Nombre_P2= 'Jupiter'\n",
    "\n",
    "Planeta_1 = 149597870\n",
    "Planeta_2 = 778547200\n",
    "\n",
    "DistanciaKM= abs(Planeta_1-Planeta_2)\n",
    "DistanciaMiles= round(DistanciaKM*0.621)\n",
    "\n",
    "print(f'Distancia entre {Nombre_P1} y {Nombre_P2} en Km: {DistanciaKM} Km.')\n",
    "print(f'Distancia entre {Nombre_P1} y {Nombre_P2} en Millas: {DistanciaMiles} Millas.')"
   ]
  },
  {
   "cell_type": "markdown",
   "metadata": {},
   "source": [
    "Ejercicio 2 convierte cadenas en números y usa valores absolutos"
   ]
  },
  {
   "cell_type": "code",
   "execution_count": 6,
   "metadata": {},
   "outputs": [
    {
     "name": "stdout",
     "output_type": "stream",
     "text": [
      "Distancia entre Mercurio y Neptuno en Km: 4437200000 Km.\n",
      "Distancia entre Mercurio y Neptuno en Millas: 2755501200 Millas.\n"
     ]
    }
   ],
   "source": [
    "#Distancia al sol\n",
    "\n",
    "Nombre_P1= input('Cuál es el nombre del planeta # 1?')\n",
    "Nombre_P2= input('Cuál es el nombre del planeta # 2?')\n",
    "\n",
    "Planeta_1 = abs(int(input('Cuál es la distancia del sol al planeta # 1 en Km?')))\n",
    "Planeta_2 = abs(int(input('Cuál es la distancia del sol al planeta # 2 en Km?')))\n",
    "\n",
    "DistanciaKM= abs(Planeta_1-Planeta_2)\n",
    "DistanciaMiles= round(DistanciaKM*0.621)\n",
    "\n",
    "print(f'Distancia entre {Nombre_P1} y {Nombre_P2} en Km: {DistanciaKM} Km.')\n",
    "print(f'Distancia entre {Nombre_P1} y {Nombre_P2} en Millas: {DistanciaMiles} Millas.')"
   ]
  }
 ],
 "metadata": {
  "interpreter": {
   "hash": "214a74407ef9e6e4ed63c40308d0aaf98d8d8b8d13d9973b42a518f17733604d"
  },
  "kernelspec": {
   "display_name": "Python 3.10.2 64-bit",
   "language": "python",
   "name": "python3"
  },
  "language_info": {
   "codemirror_mode": {
    "name": "ipython",
    "version": 3
   },
   "file_extension": ".py",
   "mimetype": "text/x-python",
   "name": "python",
   "nbconvert_exporter": "python",
   "pygments_lexer": "ipython3",
   "version": "3.10.2"
  },
  "orig_nbformat": 4
 },
 "nbformat": 4,
 "nbformat_minor": 2
}
